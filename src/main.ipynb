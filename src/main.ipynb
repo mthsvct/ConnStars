{
 "cells": [
  {
   "cell_type": "code",
   "execution_count": 1,
   "metadata": {},
   "outputs": [],
   "source": [
    "from bs4 import BeautifulSoup as bs\n",
    "import requests\n",
    "import pandas as pd\n",
    "import numpy as np\n",
    "from threading import Thread\n",
    "from time import sleep, time\n",
    "from urllib.request import urlopen, Request"
   ]
  },
  {
   "cell_type": "code",
   "execution_count": 2,
   "metadata": {},
   "outputs": [],
   "source": [
    "h = {'User-Agent': \"Mozilla/5.0 (Windows NT 6.3; Win64; x64) AppleWebKit/537.36 (KHTML, like Gecko) Chrome/92.0.4515.131 Safari/537.36\"}"
   ]
  },
  {
   "cell_type": "code",
   "execution_count": 3,
   "metadata": {},
   "outputs": [],
   "source": [
    "urlS1 = \"https://www.themoviedb.org/person/234352-margot-robbie\"\n",
    "urlS2 = \"https://www.themoviedb.org/person/2888-will-smith\""
   ]
  },
  {
   "cell_type": "code",
   "execution_count": 4,
   "metadata": {},
   "outputs": [],
   "source": [
    "r = requests.get(urlS1, headers=h)"
   ]
  },
  {
   "cell_type": "code",
   "execution_count": 5,
   "metadata": {},
   "outputs": [],
   "source": [
    "soup = bs(r.text, 'html.parser')"
   ]
  },
  {
   "cell_type": "code",
   "execution_count": 6,
   "metadata": {},
   "outputs": [
    {
     "data": {
      "text/plain": [
       "<li class=\"account_adult_false item_adult_false\">\n",
       "<div class=\"image\">\n",
       "<a href=\"/movie/495764\">\n",
       "<img alt=\"Birds of Prey (and the Fantabulous Emancipation of One Harley Quinn)\" class=\"poster\" loading=\"lazy\" src=\"/t/p/w150_and_h225_bestv2/h4VB6m0RwcicVEZvzftYZyKXs6K.jpg\" srcset=\"/t/p/w150_and_h225_bestv2/h4VB6m0RwcicVEZvzftYZyKXs6K.jpg 1x, /t/p/w300_and_h450_bestv2/h4VB6m0RwcicVEZvzftYZyKXs6K.jpg 2x\"/>\n",
       "</a>\n",
       "</div>\n",
       "<p><a class=\"title\" href=\"/movie/495764\"><bdi>Birds of Prey (and the Fantabulous Emancipation of One Harley Quinn)</bdi></a></p>\n",
       "</li>"
      ]
     },
     "execution_count": 6,
     "metadata": {},
     "output_type": "execute_result"
    }
   ],
   "source": [
    "htmlKnowFor = soup.find_all('div', id='known_for')[0].find_all('li')\n",
    "htmlKnowFor[0]"
   ]
  },
  {
   "cell_type": "code",
   "execution_count": 7,
   "metadata": {},
   "outputs": [],
   "source": [
    "tmdb = \"https://www.themoviedb.org\""
   ]
  },
  {
   "cell_type": "code",
   "execution_count": 8,
   "metadata": {},
   "outputs": [],
   "source": [
    "historico = {\n",
    "    'atores': [],\n",
    "    'filmes': []\n",
    "}"
   ]
  },
  {
   "cell_type": "code",
   "execution_count": 9,
   "metadata": {},
   "outputs": [],
   "source": [
    "class Item:\n",
    "    \n",
    "    def __init__(self, tipo='filme', id=None, name=None, link=None, html=None):\n",
    "        self.tipo = tipo\n",
    "        if html:\n",
    "            self.name = html.find('p').text\n",
    "            self.link = html.find('a')['href']\n",
    "            self.id = int(self.link.split('/')[-1] if self.tipo == 'filme' else self.link.split('/')[2].split('-')[0])\n",
    "            self.link = tmdb + self.link\n",
    "        else:\n",
    "            self.id = id\n",
    "            self.name = name\n",
    "            self.link = link\n",
    "\n",
    "    def pegaId(self):\n",
    "        return self.link.split('/')[-2] if self.tipo == 'filme' else self.link.split('/')[2].split('-')[0]\n",
    "    \n",
    "    def __str__(self):\n",
    "        return f'{self.id} - {self.name} - {self.link} - {self.tipo}'"
   ]
  },
  {
   "cell_type": "code",
   "execution_count": 10,
   "metadata": {},
   "outputs": [
    {
     "name": "stdout",
     "output_type": "stream",
     "text": [
      "495764 - Birds of Prey (and the Fantabulous Emancipation of One Harley Quinn) - https://www.themoviedb.org/movie/495764 - filme\n",
      "436969 - The Suicide Squad - https://www.themoviedb.org/movie/436969 - filme\n",
      "106646 - The Wolf of Wall Street - https://www.themoviedb.org/movie/106646 - filme\n",
      "297761 - Suicide Squad - https://www.themoviedb.org/movie/297761 - filme\n",
      "389015 - I, Tonya - https://www.themoviedb.org/movie/389015 - filme\n",
      "466272 - Once Upon a Time… in Hollywood - https://www.themoviedb.org/movie/466272 - filme\n",
      "256591 - Focus - https://www.themoviedb.org/movie/256591 - filme\n",
      "122906 - About Time - https://www.themoviedb.org/movie/122906 - filme\n"
     ]
    }
   ],
   "source": [
    "knowFor = [Item(html=filme) for filme in htmlKnowFor]\n",
    "for filme in knowFor: print(filme)"
   ]
  },
  {
   "cell_type": "code",
   "execution_count": 11,
   "metadata": {},
   "outputs": [],
   "source": [
    "r2 = requests.get(knowFor[0].link, headers=h)\n",
    "soup2 = bs(r2.text, 'html.parser')"
   ]
  },
  {
   "cell_type": "code",
   "execution_count": 12,
   "metadata": {},
   "outputs": [
    {
     "name": "stdout",
     "output_type": "stream",
     "text": [
      "9\n",
      "234352 - Margot Robbie - https://www.themoviedb.org/person/234352-margot-robbie - ator\n",
      "3061 - Ewan McGregor - https://www.themoviedb.org/person/3061-ewan-mcgregor - ator\n",
      "17628 - Mary Elizabeth Winstead - https://www.themoviedb.org/person/17628-mary-elizabeth-winstead - ator\n",
      "59017 - Jurnee Smollett - https://www.themoviedb.org/person/59017-jurnee-smollett - ator\n",
      "4810 - Rosie Perez - https://www.themoviedb.org/person/4810-rosie-perez - ator\n",
      "61659 - Chris Messina - https://www.themoviedb.org/person/61659-chris-messina - ator\n",
      "2175867 - Ella Jay Basco - https://www.themoviedb.org/person/2175867-ella-jay-basco - ator\n",
      "591835 - Ali Wong - https://www.themoviedb.org/person/591835-ali-wong - ator\n",
      "92617 - Matthew Willig - https://www.themoviedb.org/person/92617-matthew-willig - ator\n"
     ]
    }
   ],
   "source": [
    "atores = [ Item(tipo='ator', html=ator) for ator in soup2.find_all('ol', {'class': 'people scroller'})[0].find_all('li')]\n",
    "atores.pop(); print(len(atores)) # 9 atores principais.\n",
    "for ator in atores: print(ator)"
   ]
  }
 ],
 "metadata": {
  "kernelspec": {
   "display_name": "Python 3",
   "language": "python",
   "name": "python3"
  },
  "language_info": {
   "codemirror_mode": {
    "name": "ipython",
    "version": 3
   },
   "file_extension": ".py",
   "mimetype": "text/x-python",
   "name": "python",
   "nbconvert_exporter": "python",
   "pygments_lexer": "ipython3",
   "version": "3.8.10"
  },
  "orig_nbformat": 4
 },
 "nbformat": 4,
 "nbformat_minor": 2
}
