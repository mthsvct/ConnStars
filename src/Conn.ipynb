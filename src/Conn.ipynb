{
 "cells": [
  {
   "cell_type": "code",
   "execution_count": 1,
   "metadata": {},
   "outputs": [],
   "source": [
    "from bs4 import BeautifulSoup as bs\n",
    "import requests\n",
    "import pandas as pd\n",
    "import numpy as np\n",
    "from threading import Thread\n",
    "from time import sleep, time\n",
    "from urllib.request import urlopen, Request"
   ]
  },
  {
   "cell_type": "markdown",
   "metadata": {},
   "source": [
    "# Informações Importantes"
   ]
  },
  {
   "cell_type": "code",
   "execution_count": 2,
   "metadata": {},
   "outputs": [],
   "source": [
    "tmdb = \"https://www.themoviedb.org\""
   ]
  },
  {
   "cell_type": "code",
   "execution_count": 3,
   "metadata": {},
   "outputs": [],
   "source": [
    "h = {'User-Agent': \"Mozilla/5.0 (Windows NT 6.3; Win64; x64) AppleWebKit/537.36 (KHTML, like Gecko) Chrome/92.0.4515.131 Safari/537.36\"}"
   ]
  },
  {
   "cell_type": "markdown",
   "metadata": {},
   "source": [
    "# Classe Item"
   ]
  },
  {
   "cell_type": "code",
   "execution_count": 4,
   "metadata": {},
   "outputs": [],
   "source": [
    "class Item:\n",
    "    \n",
    "    def __init__(self, url=None, tipo='filme', id=None, name=None, html=None, download=True):\n",
    "        self.tipo = tipo\n",
    "        if url != None and download:\n",
    "            self.url = url\n",
    "            aux = url.replace(tmdb, '')\n",
    "            self.id = int(aux.split('/')[-1]) if tipo == 'filme' else int(aux.split('/')[2].split('-')[0])\n",
    "\n",
    "            while True:\n",
    "                r = requests.get(url, headers=h)\n",
    "                if r.status_code == 200:\n",
    "                    break\n",
    "                else:\n",
    "                    sleep(1)\n",
    "            self.html = bs(r.text, 'html.parser')\n",
    "            self.name = self.html.find('div', {'class': 'title'}).find('a').text if tipo == 'filme' else self.html.find('h2', {'class': 'title'}).text\n",
    "        else:\n",
    "            self.id = id\n",
    "            self.name = name\n",
    "            self.html = html\n",
    "            self.url = url\n",
    "    \n",
    "    def pegaId(self):\n",
    "        return self.link.split('/')[-2] if self.tipo == 'filme' else self.link.split('/')[2].split('-')[0]\n",
    "    \n",
    "    def __str__(self):\n",
    "        return f'{self.id} - {self.name} - {self.url} - {self.tipo} - html = {\"TEM\" if self.html != None else \"Nao tem\"}'"
   ]
  },
  {
   "cell_type": "markdown",
   "metadata": {},
   "source": [
    "## Classe Filme\n",
    "\n",
    "O filme deve possuir uma lista com seus principais atores, que virá no HTML."
   ]
  },
  {
   "cell_type": "code",
   "execution_count": 5,
   "metadata": {},
   "outputs": [],
   "source": [
    "class Filme(Item):\n",
    "    def __init__(self, url):\n",
    "        super().__init__(url=url, tipo='filme')\n",
    "        aux = [(ator.find('a')['href'].split('/')[-1].split('-')[0], ator.find('p').text) \n",
    "               for ator in self.html.find_all('ol', {'class': 'people scroller'})[0].find_all('li')][:-1]\n",
    "        self.elenco = [\n",
    "            Item(\n",
    "                id=int(x[0]),\n",
    "                name=x[1], \n",
    "                tipo='ator', \n",
    "                url=f'{tmdb}/person/{x[0]}', \n",
    "                download=False) for x in aux\n",
    "            ]"
   ]
  },
  {
   "cell_type": "markdown",
   "metadata": {},
   "source": [
    "## Classe Ator\n",
    "\n",
    "Um ator deve possuir uma lista com seus principais filmes, que virá no HTML."
   ]
  },
  {
   "cell_type": "code",
   "execution_count": 6,
   "metadata": {},
   "outputs": [],
   "source": [
    "class Ator(Item):\n",
    "    def __init__(self, url):\n",
    "        super().__init__(url=url, tipo='ator')\n",
    "        ids = [ (\n",
    "                    int(filme.find('a')['href'].split('/')[-1]),\n",
    "                    filme.find('p').text\n",
    "                ) for filme in self.html.find_all('div', id='known_for')[0].find_all('li')]\n",
    "        self.know = [ \n",
    "            Item(\n",
    "                id=i[0],\n",
    "                name=i[1], \n",
    "                tipo='filme', \n",
    "                url=f\"{tmdb}/movie/{i[0]}\", \n",
    "                download=False) for i in ids\n",
    "            ]"
   ]
  },
  {
   "cell_type": "markdown",
   "metadata": {},
   "source": [
    "# Dois Atores que quero conectar"
   ]
  },
  {
   "cell_type": "code",
   "execution_count": 7,
   "metadata": {},
   "outputs": [],
   "source": [
    "urlS1 = \"https://www.themoviedb.org/person/234352-margot-robbie\"\n",
    "urlS2 = \"https://www.themoviedb.org/person/23532-jason-bateman\""
   ]
  },
  {
   "cell_type": "code",
   "execution_count": 8,
   "metadata": {},
   "outputs": [],
   "source": [
    "s1, s2 = Ator(url=urlS1), Ator(url=urlS2)"
   ]
  },
  {
   "cell_type": "code",
   "execution_count": 9,
   "metadata": {},
   "outputs": [
    {
     "name": "stdout",
     "output_type": "stream",
     "text": [
      "234352 - Margot Robbie - https://www.themoviedb.org/person/234352-margot-robbie - ator - html = TEM\n",
      "23532 - Jason Bateman - https://www.themoviedb.org/person/23532-jason-bateman - ator - html = TEM\n"
     ]
    }
   ],
   "source": [
    "print(s1); print(s2)"
   ]
  },
  {
   "cell_type": "code",
   "execution_count": 10,
   "metadata": {},
   "outputs": [
    {
     "name": "stdout",
     "output_type": "stream",
     "text": [
      "495764 - Birds of Prey (and the Fantabulous Emancipation of One Harley Quinn) - https://www.themoviedb.org/movie/495764 - filme - html = Nao tem\n",
      "436969 - The Suicide Squad - https://www.themoviedb.org/movie/436969 - filme - html = Nao tem\n",
      "106646 - The Wolf of Wall Street - https://www.themoviedb.org/movie/106646 - filme - html = Nao tem\n",
      "297761 - Suicide Squad - https://www.themoviedb.org/movie/297761 - filme - html = Nao tem\n",
      "389015 - I, Tonya - https://www.themoviedb.org/movie/389015 - filme - html = Nao tem\n",
      "466272 - Once Upon a Time… in Hollywood - https://www.themoviedb.org/movie/466272 - filme - html = Nao tem\n",
      "256591 - Focus - https://www.themoviedb.org/movie/256591 - filme - html = Nao tem\n",
      "122906 - About Time - https://www.themoviedb.org/movie/122906 - filme - html = Nao tem\n"
     ]
    }
   ],
   "source": [
    "for i in s1.know:\n",
    "    print(i)"
   ]
  },
  {
   "cell_type": "code",
   "execution_count": 11,
   "metadata": {},
   "outputs": [],
   "source": [
    "filme_teste = \"https://www.themoviedb.org/movie/843847\""
   ]
  },
  {
   "cell_type": "code",
   "execution_count": 12,
   "metadata": {},
   "outputs": [],
   "source": [
    "f  = Filme(url=filme_teste)"
   ]
  },
  {
   "cell_type": "code",
   "execution_count": 13,
   "metadata": {},
   "outputs": [
    {
     "name": "stdout",
     "output_type": "stream",
     "text": [
      "17419 - Bryan Cranston - https://www.themoviedb.org/person/17419 - ator - html = Nao tem\n",
      "516 - Annette Bening - https://www.themoviedb.org/person/516 - ator - html = Nao tem\n",
      "11678 - Rainn Wilson - https://www.themoviedb.org/person/11678 - ator - html = Nao tem\n",
      "154091 - Larry Wilmore - https://www.themoviedb.org/person/154091 - ator - html = Nao tem\n",
      "21731 - Michael McKean - https://www.themoviedb.org/person/21731 - ator - html = Nao tem\n",
      "196181 - Ann Harada - https://www.themoviedb.org/person/196181 - ator - html = Nao tem\n",
      "94791 - Jake McDorman - https://www.themoviedb.org/person/94791 - ator - html = Nao tem\n",
      "221098 - Anna Camp - https://www.themoviedb.org/person/221098 - ator - html = Nao tem\n",
      "2551620 - Devyn McDowell - https://www.themoviedb.org/person/2551620 - ator - html = Nao tem\n"
     ]
    }
   ],
   "source": [
    "for x in f.elenco:\n",
    "    print(x)"
   ]
  },
  {
   "cell_type": "markdown",
   "metadata": {},
   "source": [
    "# Inicio"
   ]
  },
  {
   "cell_type": "code",
   "execution_count": 14,
   "metadata": {},
   "outputs": [],
   "source": [
    "mensagem = lambda filme, ator: f\"O ator {ator.name} participou do filme {filme.name}\""
   ]
  },
  {
   "cell_type": "code",
   "execution_count": 15,
   "metadata": {},
   "outputs": [],
   "source": [
    "def busca(item, lista):\n",
    "    r = [x for x in lista if x.id == item.id]\n",
    "    return len(r) > 0, r[0] if len(r) > 0 else None"
   ]
  },
  {
   "cell_type": "code",
   "execution_count": 16,
   "metadata": {},
   "outputs": [],
   "source": [
    "def escolheAtor(atual:Filme, historico:list):\n",
    "    escolhido = None\n",
    "    i = 0\n",
    "    while escolhido == None and i < len(atual.elenco):\n",
    "        if busca(item=atual.elenco[i], lista=historico)[0] == False:\n",
    "            escolhido = atual.elenco[i]\n",
    "        i += 1\n",
    "    return escolhido"
   ]
  },
  {
   "cell_type": "code",
   "execution_count": 17,
   "metadata": {},
   "outputs": [],
   "source": [
    "def escolheFilme(atorAtual:Ator, historico:list):\n",
    "    escolhido = None\n",
    "    i = 0\n",
    "    while escolhido == None and i < len(atorAtual.know):\n",
    "        if busca(item=atorAtual.know[i], lista=historico)[0] == False:\n",
    "            escolhido = atorAtual.know[i]\n",
    "        i += 1\n",
    "    return escolhido"
   ]
  },
  {
   "cell_type": "code",
   "execution_count": 18,
   "metadata": {},
   "outputs": [],
   "source": [
    "def buscaSeq(movInit:Item, s2:Ator, historico:list, thr:int, encontrou=False, numMax=50, possivel=True):\n",
    "    # Possivel = True: Ainda é possivel encontrar o caminho.\n",
    "    # Possivel = False: Não é mais possivel encontrar o caminho pelos atores principais.\n",
    "    # Acrenscentar uma trava a cada 35 requisições, já que o site só permite 40 por segundo.\n",
    "    while len(historico) < numMax and encontrou == False and possivel:\n",
    "        historico.append(Filme(url=movInit.url)) # Requisitar o filme e já colocar no historico.\n",
    "        print(f\"T{thr} | FILME: {historico[-1].name}\")\n",
    "\n",
    "        encontrou, ator = busca(item=s2, lista=historico[-1].elenco)\n",
    "\n",
    "        # Encontrou?\n",
    "        if encontrou: # Sim:\n",
    "            print(f\"T{thr} | {mensagem(filme=historico[-1], ator=ator)}\")\n",
    "            historico.append(s2)\n",
    "        else: # Não:\n",
    "\n",
    "            # Escolher o ator entre o elenco, deve ser alguém que não esteja no historico.\n",
    "            atorAtual = escolheAtor(atual=historico[-1], historico=historico)\n",
    "\n",
    "            if atorAtual != None: # Ainda é possivel encontrar o caminho.\n",
    "                historico.append(Ator(url=atorAtual.url))\n",
    "                print(f\"T{thr} | ATOR: {historico[-1].name}\")\n",
    "\n",
    "                # Escolher o filme entre os filmes que o ator participou, deve ser um filme que não esteja no historico.\n",
    "                movInit = escolheFilme(atorAtual=historico[-1], historico=historico)\n",
    "\n",
    "            else:\n",
    "                possivel = False\n",
    "\n"
   ]
  },
  {
   "cell_type": "code",
   "execution_count": 19,
   "metadata": {},
   "outputs": [],
   "source": [
    "def conecta(s1, s2, qntThrs=1):\n",
    "    numMax = 50\n",
    "    encontrou = False\n",
    "    historicos = [[s1] for _ in range(qntThrs)]\n",
    "    limite = 35\n",
    "\n",
    "    thrs = [Thread(target=buscaSeq, args=(s1.know[i], s2, historicos[i], i, encontrou, numMax)) for i in range(qntThrs)]\n",
    "    \n",
    "    print(thrs)\n",
    "\n",
    "    for thr in thrs:\n",
    "        thr.start()\n",
    "\n",
    "    for thr in thrs:\n",
    "        thr.join()\n",
    "\n",
    "    return historicos\n"
   ]
  },
  {
   "cell_type": "code",
   "execution_count": 20,
   "metadata": {},
   "outputs": [
    {
     "name": "stdout",
     "output_type": "stream",
     "text": [
      "[<Thread(Thread-7, initial)>, <Thread(Thread-8, initial)>, <Thread(Thread-9, initial)>, <Thread(Thread-10, initial)>, <Thread(Thread-11, initial)>]\n"
     ]
    },
    {
     "name": "stdout",
     "output_type": "stream",
     "text": [
      "T0 | FILME: Birds of Prey (and the Fantabulous Emancipation of One Harley Quinn)\n",
      "T4 | FILME: I, Tonya\n",
      "T2 | FILME: The Wolf of Wall Street\n",
      "T1 | FILME: The Suicide Squad\n",
      "T3 | FILME: Suicide Squad\n",
      "T2 | ATOR: Leonardo DiCaprio\n",
      "T4 | ATOR: Sebastian Stan\n",
      "T0 | ATOR: Ewan McGregor\n",
      "T1 | ATOR: Idris Elba\n",
      "T3 | ATOR: Will Smith\n",
      "T2 | FILME: Inception\n",
      "T4 | FILME: Captain America: The Winter Soldier\n",
      "T0 | FILME: Trainspotting\n",
      "T1 | FILME: Zootopia\n",
      "T1 | O ator Jason Bateman participou do filme Zootopia\n",
      "T2 | ATOR: Joseph Gordon-Levitt\n",
      "T3 | FILME: I Am Legend\n",
      "T4 | ATOR: Chris Evans\n",
      "T0 | ATOR: Ewen Bremner\n",
      "T3 | ATOR: Alice Braga\n",
      "T2 | FILME: Looper\n",
      "T4 | FILME: Captain America: Civil War\n",
      "T0 | FILME: Wonder Woman\n",
      "T2 | ATOR: Bruce Willis\n",
      "T3 | FILME: Soul\n",
      "T4 | ATOR: Robert Downey Jr.\n",
      "T2 | FILME: The Sixth Sense\n",
      "T0 | ATOR: Gal Gadot\n",
      "T4 | FILME: The Avengers\n",
      "T2 | ATOR: Haley Joel Osment\n",
      "T3 | ATOR: Jamie Foxx\n",
      "T0 | FILME: Wonder Woman 1984\n",
      "T4 | ATOR: Mark Ruffalo\n",
      "T2 | FILME: A.I. Artificial Intelligence\n",
      "T3 | FILME: Django Unchained\n",
      "T0 | ATOR: Chris Pine\n",
      "T2 | ATOR: Jude Law\n",
      "T3 | ATOR: Christoph Waltz\n",
      "T2 | FILME: Sherlock Holmes\n",
      "T0 | FILME: Star Trek\n",
      "T3 | FILME: Inglourious Basterds\n",
      "T2 | ATOR: Robert Downey Jr.\n",
      "T4 | FILME: Shutter Island\n",
      "T0 | ATOR: Zachary Quinto\n",
      "T3 | ATOR: Brad Pitt\n",
      "T4 | ATOR: Leonardo DiCaprio\n",
      "T2 | FILME: The Avengers\n",
      "T0 | FILME: Star Trek Into Darkness\n",
      "T3 | FILME: Se7en\n",
      "T4 | FILME: Inception\n",
      "T0 | ATOR: Benedict Cumberbatch\n",
      "T3 | ATOR: Morgan Freeman\n",
      "T2 | ATOR: Chris Evans\n",
      "T0 | FILME: Doctor Strange\n",
      "T4 | ATOR: Joseph Gordon-Levitt\n",
      "T3 | FILME: The Shawshank Redemption\n",
      "T2 | FILME: Captain America: Civil War\n",
      "T4 | FILME: Looper\n",
      "T0 | ATOR: Chiwetel Ejiofor\n",
      "T3 | ATOR: Tim Robbins\n",
      "T4 | ATOR: Bruce Willis\n",
      "T0 | FILME: 12 Years a Slave\n",
      "T2 | ATOR: Scarlett Johansson\n",
      "T3 | FILME: Mystic River\n",
      "T4 | FILME: The Sixth Sense\n",
      "T0 | ATOR: Michael Fassbender\n",
      "T2 | FILME: Lucy\n",
      "T4 | ATOR: Haley Joel Osment\n",
      "T3 | ATOR: Sean Penn\n",
      "T2 | ATOR: Morgan Freeman\n",
      "T0 | FILME: Alien: Covenant\n",
      "T4 | FILME: A.I. Artificial Intelligence\n",
      "T0 | ATOR: Katherine Waterston\n",
      "T3 | FILME: The Game\n",
      "T2 | FILME: The Shawshank Redemption\n",
      "T4 | ATOR: Jude Law\n",
      "T0 | FILME: Fantastic Beasts and Where to Find Them\n",
      "T2 | ATOR: Tim Robbins\n",
      "T4 | FILME: Sherlock Holmes\n",
      "T3 | ATOR: Michael Douglas\n",
      "T0 | ATOR: Eddie Redmayne\n",
      "T2 | FILME: Mystic River\n",
      "T4 | ATOR: Rachel McAdams\n",
      "T3 | FILME: Ant-Man\n",
      "T4 | FILME: The Notebook\n",
      "T2 | ATOR: Sean Penn\n",
      "T0 | FILME: Fantastic Beasts: The Crimes of Grindelwald\n",
      "T3 | ATOR: Paul Rudd\n",
      "T2 | FILME: The Game\n",
      "T4 | ATOR: Ryan Gosling\n",
      "T0 | ATOR: Dan Fogler\n",
      "T3 | FILME: Ant-Man and the Wasp\n",
      "T2 | ATOR: Michael Douglas\n",
      "T3 | ATOR: Evangeline Lilly\n",
      "T0 | FILME: Kung Fu Panda\n",
      "T4 | FILME: La La Land\n",
      "T2 | FILME: Ant-Man\n",
      "T0 | ATOR: Jack Black\n",
      "T3 | FILME: The Hobbit: The Battle of the Five Armies\n",
      "T2 | ATOR: Paul Rudd\n",
      "T4 | ATOR: Emma Stone\n",
      "T0 | FILME: Kung Fu Panda 2\n",
      "T2 | FILME: Ant-Man and the Wasp\n",
      "T4 | FILME: Cruella\n",
      "T3 | ATOR: Ian McKellen\n",
      "T0 | ATOR: Angelina Jolie\n",
      "T2 | ATOR: Evangeline Lilly\n",
      "T4 | ATOR: Emma Thompson\n",
      "T3 | FILME: The Hobbit: An Unexpected Journey\n",
      "T0 | FILME: Maleficent\n",
      "T2 | FILME: The Hobbit: The Battle of the Five Armies\n",
      "T4 | FILME: Brave\n",
      "T3 | ATOR: Martin Freeman\n",
      "T0 | ATOR: Elle Fanning\n",
      "T4 | ATOR: Kelly Macdonald\n",
      "T2 | ATOR: Ian McKellen\n",
      "T3 | FILME: The Hobbit: The Desolation of Smaug\n",
      "T0 | FILME: The Neon Demon\n",
      "T2 | FILME: The Hobbit: An Unexpected Journey\n",
      "T4 | FILME: No Country for Old Men\n",
      "T2 | ATOR: Martin Freeman\n",
      "T3 | ATOR: Richard Armitage\n",
      "T0 | ATOR: Karl Glusman\n",
      "T4 | ATOR: Tommy Lee Jones\n",
      "T2 | FILME: The Hobbit: The Desolation of Smaug\n",
      "T3 | FILME: Into the Storm\n",
      "T0 | FILME: Love\n",
      "T2 | ATOR: Richard Armitage\n",
      "T4 | FILME: Men in Black\n",
      "T3 | ATOR: Sarah Wayne Callies\n",
      "T2 | FILME: Into the Storm\n",
      "T0 | ATOR: Aomi Muyock\n",
      "T4 | ATOR: Will Smith\n",
      "T3 | FILME: Closer\n",
      "T2 | ATOR: Sarah Wayne Callies\n",
      "T0 | FILME: Jessica Forever\n",
      "T4 | FILME: Suicide Squad\n",
      "T2 | FILME: Closer\n",
      "T3 | ATOR: Julia Roberts\n",
      "T2 | ATOR: Julia Roberts\n",
      "T0 | ATOR: Sebastian Urzendowsky\n",
      "T4 | ATOR: Jared Leto\n",
      "T3 | FILME: Notting Hill\n",
      "T0 | FILME: The Way Back\n",
      "T4 | FILME: Mr. Nobody\n",
      "T2 | FILME: Notting Hill\n",
      "T3 | ATOR: Hugh Grant\n",
      "T2 | ATOR: Hugh Grant\n",
      "T3 | FILME: Four Weddings and a Funeral\n",
      "T0 | ATOR: Jim Sturgess\n",
      "T4 | ATOR: Sarah Polley\n",
      "T2 | FILME: Four Weddings and a Funeral\n",
      "T3 | ATOR: Andie MacDowell\n",
      "T0 | FILME: 21T4 | FILME: Dawn of the Dead\n",
      "\n",
      "T2 | ATOR: Andie MacDowell\n",
      "T0 | ATOR: Kevin Spacey\n",
      "T2 | FILME: Groundhog Day\n",
      "T3 | FILME: Groundhog Day\n",
      "T4 | ATOR: Ving Rhames\n",
      "T2 | ATOR: Bill Murray\n",
      "T0 | FILME: American Beauty\n",
      "T4 | FILME: Pulp Fiction\n",
      "T2 | FILME: Ghostbusters\n",
      "T3 | ATOR: Bill Murray\n",
      "T3 | FILME: Ghostbusters\n",
      "T0 | ATOR: Annette Bening\n",
      "T2 | ATOR: Dan Aykroyd\n",
      "T3 | ATOR: Dan Aykroyd\n",
      "T0 | FILME: Captain Marvel\n",
      "T3 | FILME: The Blues Brothers\n",
      "T2 | FILME: The Blues Brothers\n",
      "T0 | ATOR: Brie Larson\n",
      "T2 | ATOR: John Belushi\n",
      "T0 | FILME: Room\n",
      "T2 | FILME: Animal House\n",
      "T3 | ATOR: John Belushi\n",
      "T3 | FILME: Animal House\n",
      "T0 | ATOR: Jacob Tremblay\n",
      "T4 | ATOR: John Travolta\n",
      "T2 | ATOR: Tim Matheson\n",
      "T3 | ATOR: Tim Matheson\n",
      "T0 | FILME: Luca\n",
      "T4 | FILME: Grease\n",
      "T0 | ATOR: Jack Dylan Grazer\n",
      "T3 | FILME: National Lampoon's Van Wilder\n",
      "T4 | ATOR: Olivia Newton-John\n",
      "T3 | ATOR: Ryan Reynolds\n",
      "T0 | FILME: It\n",
      "T4 | FILME: Xanadu\n",
      "T3 | FILME: Deadpool\n",
      "T0 | ATOR: Jaeden Martell\n",
      "T4 | ATOR: Gene Kelly\n",
      "T3 | ATOR: Morena Baccarin\n",
      "T0 | FILME: Knives Out\n",
      "T4 | FILME: Singin' in the Rain\n",
      "T3 | FILME: Deadpool 2\n",
      "T0 | ATOR: Daniel Craig\n",
      "T4 | ATOR: Donald O'Connor\n",
      "T3 | ATOR: Josh Brolin\n",
      "T4 | FILME: Toys\n",
      "T4 | ATOR: Robin Williams\n",
      "T4 | FILME: Dead Poets Society\n",
      "T4 | ATOR: Ethan Hawke\n"
     ]
    }
   ],
   "source": [
    "historicos = conecta(s1, s2, qntThrs=5)"
   ]
  },
  {
   "cell_type": "code",
   "execution_count": 22,
   "metadata": {},
   "outputs": [
    {
     "name": "stdout",
     "output_type": "stream",
     "text": [
      "234352 - Margot Robbie - https://www.themoviedb.org/person/234352-margot-robbie - ator - html = TEM\n",
      "495764 - Birds of Prey (and the Fantabulous Emancipation of One Harley Quinn) - https://www.themoviedb.org/movie/495764 - filme - html = TEM\n",
      "3061 - Ewan McGregor - https://www.themoviedb.org/person/3061 - ator - html = TEM\n",
      "627 - Trainspotting - https://www.themoviedb.org/movie/627 - filme - html = TEM\n",
      "1125 - Ewen Bremner - https://www.themoviedb.org/person/1125 - ator - html = TEM\n",
      "297762 - Wonder Woman - https://www.themoviedb.org/movie/297762 - filme - html = TEM\n",
      "90633 - Gal Gadot - https://www.themoviedb.org/person/90633 - ator - html = TEM\n",
      "464052 - Wonder Woman 1984 - https://www.themoviedb.org/movie/464052 - filme - html = TEM\n",
      "62064 - Chris Pine - https://www.themoviedb.org/person/62064 - ator - html = TEM\n",
      "13475 - Star Trek - https://www.themoviedb.org/movie/13475 - filme - html = TEM\n",
      "17306 - Zachary Quinto - https://www.themoviedb.org/person/17306 - ator - html = TEM\n",
      "54138 - Star Trek Into Darkness - https://www.themoviedb.org/movie/54138 - filme - html = TEM\n",
      "71580 - Benedict Cumberbatch - https://www.themoviedb.org/person/71580 - ator - html = TEM\n",
      "284052 - Doctor Strange - https://www.themoviedb.org/movie/284052 - filme - html = TEM\n",
      "5294 - Chiwetel Ejiofor - https://www.themoviedb.org/person/5294 - ator - html = TEM\n",
      "76203 - 12 Years a Slave - https://www.themoviedb.org/movie/76203 - filme - html = TEM\n",
      "17288 - Michael Fassbender - https://www.themoviedb.org/person/17288 - ator - html = TEM\n",
      "126889 - Alien: Covenant - https://www.themoviedb.org/movie/126889 - filme - html = TEM\n",
      "77795 - Katherine Waterston - https://www.themoviedb.org/person/77795 - ator - html = TEM\n",
      "259316 - Fantastic Beasts and Where to Find Them - https://www.themoviedb.org/movie/259316 - filme - html = TEM\n",
      "37632 - Eddie Redmayne - https://www.themoviedb.org/person/37632 - ator - html = TEM\n",
      "338952 - Fantastic Beasts: The Crimes of Grindelwald - https://www.themoviedb.org/movie/338952 - filme - html = TEM\n",
      "58873 - Dan Fogler - https://www.themoviedb.org/person/58873 - ator - html = TEM\n",
      "9502 - Kung Fu Panda - https://www.themoviedb.org/movie/9502 - filme - html = TEM\n",
      "70851 - Jack Black - https://www.themoviedb.org/person/70851 - ator - html = TEM\n",
      "49444 - Kung Fu Panda 2 - https://www.themoviedb.org/movie/49444 - filme - html = TEM\n",
      "11701 - Angelina Jolie - https://www.themoviedb.org/person/11701 - ator - html = TEM\n",
      "102651 - Maleficent - https://www.themoviedb.org/movie/102651 - filme - html = TEM\n",
      "18050 - Elle Fanning - https://www.themoviedb.org/person/18050 - ator - html = TEM\n",
      "301365 - The Neon Demon - https://www.themoviedb.org/movie/301365 - filme - html = TEM\n",
      "1327613 - Karl Glusman - https://www.themoviedb.org/person/1327613 - ator - html = TEM\n",
      "292431 - Love - https://www.themoviedb.org/movie/292431 - filme - html = TEM\n",
      "1469394 - Aomi Muyock - https://www.themoviedb.org/person/1469394 - ator - html = TEM\n",
      "515048 - Jessica Forever - https://www.themoviedb.org/movie/515048 - filme - html = TEM\n",
      "6082 - Sebastian Urzendowsky - https://www.themoviedb.org/person/6082 - ator - html = TEM\n",
      "49009 - The Way Back - https://www.themoviedb.org/movie/49009 - filme - html = TEM\n",
      "38941 - Jim Sturgess - https://www.themoviedb.org/person/38941 - ator - html = TEM\n",
      "8065 - 21 - https://www.themoviedb.org/movie/8065 - filme - html = TEM\n",
      "1979 - Kevin Spacey - https://www.themoviedb.org/person/1979 - ator - html = TEM\n",
      "14 - American Beauty - https://www.themoviedb.org/movie/14 - filme - html = TEM\n",
      "516 - Annette Bening - https://www.themoviedb.org/person/516 - ator - html = TEM\n",
      "299537 - Captain Marvel - https://www.themoviedb.org/movie/299537 - filme - html = TEM\n",
      "60073 - Brie Larson - https://www.themoviedb.org/person/60073 - ator - html = TEM\n",
      "264644 - Room - https://www.themoviedb.org/movie/264644 - filme - html = TEM\n",
      "1277188 - Jacob Tremblay - https://www.themoviedb.org/person/1277188 - ator - html = TEM\n",
      "508943 - Luca - https://www.themoviedb.org/movie/508943 - filme - html = TEM\n",
      "1774679 - Jack Dylan Grazer - https://www.themoviedb.org/person/1774679 - ator - html = TEM\n",
      "346364 - It - https://www.themoviedb.org/movie/346364 - filme - html = TEM\n",
      "1274508 - Jaeden Martell - https://www.themoviedb.org/person/1274508 - ator - html = TEM\n",
      "546554 - Knives Out - https://www.themoviedb.org/movie/546554 - filme - html = TEM\n",
      "8784 - Daniel Craig - https://www.themoviedb.org/person/8784 - ator - html = TEM\n"
     ]
    }
   ],
   "source": [
    "for i in historicos[0]:\n",
    "    print(i)"
   ]
  }
 ],
 "metadata": {
  "kernelspec": {
   "display_name": "Python 3",
   "language": "python",
   "name": "python3"
  },
  "language_info": {
   "codemirror_mode": {
    "name": "ipython",
    "version": 3
   },
   "file_extension": ".py",
   "mimetype": "text/x-python",
   "name": "python",
   "nbconvert_exporter": "python",
   "pygments_lexer": "ipython3",
   "version": "3.8.10"
  },
  "orig_nbformat": 4
 },
 "nbformat": 4,
 "nbformat_minor": 2
}
