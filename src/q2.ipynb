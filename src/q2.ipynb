{
 "cells": [
  {
   "cell_type": "markdown",
   "metadata": {},
   "source": [
    "# Questão 02\n",
    "\n",
    "- Respostas da 2º Avaliação de SD - 2023 \n",
    "- Aluno: Matheus Victor Ferreira da Silva\n",
    "- Explique e demonstre com Python a vantagem de se usar Threads em Python para aplicações IO-Block mesmo que em Python as Threads não sejam executadas ao mesmo tempo. Para essa demonstração não use o caso do download visto em sala de aula, elabore outro exemplo"
   ]
  },
  {
   "cell_type": "markdown",
   "metadata": {},
   "source": [
    "## Bibliotecas"
   ]
  },
  {
   "cell_type": "code",
   "execution_count": 1,
   "metadata": {},
   "outputs": [],
   "source": [
    "from bs4 import BeautifulSoup as bs\n",
    "import requests\n",
    "import pandas as pd\n",
    "import numpy as np\n",
    "from threading import Thread\n",
    "from time import sleep, time\n",
    "import seaborn as sns\n",
    "import matplotlib.pyplot as plt"
   ]
  },
  {
   "cell_type": "markdown",
   "metadata": {},
   "source": [
    "## Conect The Stars\n",
    "\n",
    "O jogo \"[Connect The Stars](https://connectthestars.xyz/)\" tem como objetivo descobrir como duas estrelas de cinema estão conectadas através de seus filmes. Primeiramente é definido dois atores, que são considerados como pontos de início e fim. Um exemplo é demonstrado na imagem abaixo, onde é apresentado uma sequência que interlga o ator \"Brad Pitt\" ao ator brasileiro \"Seu Jorge\":\n",
    "\n",
    "![Exemplo](exmp.png)\n",
    "\n",
    "Brad Pitt trabalhou em \"O Curioso Caso de Benjamin Button (2008)\", onde Cate Blanchett também trabalhou. Além disso, Blanchett atuou em \"A Vida Marinha com Steve Zissou (2004)\" com Seu Jorge. Com isso, temos a sequência que interliga os dois atores."
   ]
  },
  {
   "cell_type": "markdown",
   "metadata": {},
   "source": [
    "## Implementação\n",
    "\n",
    "Este programa tem como objetivo encontrar a sequências possíveis que interliguem a atriz \"[Fernanda Montenegro](https://www.themoviedb.org/person/10055-fernanda-montenegro?language=pt-BR)\" à atriz \"[Meryl Streep](https://www.themoviedb.org/person/5064-meryl-streep?language=pt-BR)\". Para isso, foi utilizado o mecanismo de Web Scraping para obter os dados necessários sobre filmes e atores, o mecanismo busca dados a partir das páginas HTML do site [TMDb](https://www.themoviedb.org/) que são obtidas a partir de requisições feitas pelo o próprio programa.\n",
    "\n",
    "Na página de cada ator está listado os principais filmes que aquele ator trabalhou. É a partir destes filmes listados que é iniciado cada thread, por meio da raspagem de dados inicial são obtidos os 8 filmes principais da atriz inicial, que é \"Fernanda Montenegro\". Para cada filme será iniciado uma Thread, que irá executar a função de buscar a sequência entre as atrizes, buscando o elenco principal do filme e em seguida escolhendo um ator/atriz que não esteja no histórico de já vistos. Em seguida o processo é repetido, até o número de itens do histórico ser maior que 100 ou se for encontrado a sequência.\n",
    "\n",
    "O uso de Threads no processamento concorrente é importante neste caso pois possibilita que enquanto uma Thread esteja realizando a requisição da página HTML, outras Threads podem continuar suas devidas buscas. Outro ponto importante, além da espera da requisição foi necessário implementar um mecanismo de espera no caso de sobrecarga de requisições, pois o site [TMDb](https://www.themoviedb.org/) limita o número de requisições por segundo em 50. Logo, quando uma requisição retorna com status 429 (*Too Many Requests*) a Thread é pausada por 5 segundos antes de tentar novamente.\n",
    "\n",
    "![Limite de Requisições](./limite.png)"
   ]
  },
  {
   "cell_type": "code",
   "execution_count": 2,
   "metadata": {},
   "outputs": [],
   "source": [
    "\n",
    "# Informações importantes\n",
    "tmdb = \"https://www.themoviedb.org\"\n",
    "h = {'User-Agent': \"Mozilla/5.0 (Windows NT 6.3; Win64; x64) AppleWebKit/537.36 (KHTML, like Gecko) Chrome/92.0.4515.131 Safari/537.36\"}"
   ]
  },
  {
   "cell_type": "markdown",
   "metadata": {},
   "source": [
    "### Classe Item\n",
    "\n",
    "A classe Item foi criada para melhorar a organização das informações do filme ou ator. Além disso, para facilitar, ao ser instanciado passando apenas a url, o objeto já faz automáticamente a raspagem daquela página."
   ]
  },
  {
   "cell_type": "code",
   "execution_count": 3,
   "metadata": {},
   "outputs": [],
   "source": [
    "class Item:\n",
    "    # Ao ser instanciado passando apenas a url, o objeto já faz automáticamente a raspagem daquela página.\n",
    "    def __init__(self, url=None, tipo='filme', id=None, name=None, html=None, download=True, thr=None):\n",
    "        self.tipo = tipo\n",
    "        if url != None and download:\n",
    "            aux = url.replace(tmdb, '')\n",
    "            self.id = int(aux.split('/')[-1]) if tipo == 'filme' else int(aux.split('/')[2].split('-')[0])\n",
    "            self.thr = thr\n",
    "            code = 0\n",
    "            while code != 200:\n",
    "                r = requests.get(url, headers=h, timeout=5)\n",
    "                code = r.status_code\n",
    "                if code == 404:\n",
    "                    # print(f\"status: {code} | {url} | T{thr}\")\n",
    "                    url = tmdb + '/tv/' + str(self.id)\n",
    "                    # print('Novo url: ', url, f'| T{thr}')\n",
    "                elif code == 429:\n",
    "                    # print(f\"status: {code} | {url} | T{thr}\")\n",
    "                    sleep(5)\n",
    "            self.url = url\n",
    "            self.html = bs(r.text, 'html.parser')\n",
    "            self.name = self.html.find('div', {'class': 'title'}).find('a').text if tipo == 'filme' else self.html.find('h2', {'class': 'title'}).text\n",
    "        else:\n",
    "            self.id = id\n",
    "            self.name = name\n",
    "            self.html = html\n",
    "            self.url = url\n",
    "    \n",
    "    def pegaId(self):\n",
    "        return self.link.split('/')[-2] if self.tipo == 'filme' else self.link.split('/')[2].split('-')[0]\n",
    "    \n",
    "    def __str__(self):\n",
    "        return f'{self.id} - {self.name} - {self.url} - {self.tipo} - html = {\"TEM\" if self.html != None else \"Nao tem\"}'\n"
   ]
  },
  {
   "cell_type": "markdown",
   "metadata": {},
   "source": [
    "#### Classe Filme\n",
    "\n",
    "O filme herda atributos e métodos de Item, além disso deve possuir uma lista com seus principais atores, que virá no HTML."
   ]
  },
  {
   "cell_type": "code",
   "execution_count": 4,
   "metadata": {},
   "outputs": [],
   "source": [
    "class Filme(Item):\n",
    "\n",
    "    def __init__(self, url, thr=None):\n",
    "        super().__init__(url=url, tipo='filme', thr=thr)\n",
    "        aux = [(ator.find('a')['href'].split('/')[-1].split('-')[0], ator.find('p').text) \n",
    "               for ator in self.html.find_all('ol', {'class': 'people scroller'})[0].find_all('li')][:-1]\n",
    "        self.elenco = [\n",
    "            Item(\n",
    "                id=int(x[0]),\n",
    "                name=x[1], \n",
    "                tipo='ator', \n",
    "                url=f'{tmdb}/person/{x[0]}', \n",
    "                download=False)\n",
    "            for x in aux]"
   ]
  },
  {
   "cell_type": "markdown",
   "metadata": {},
   "source": [
    "#### Classe Ator\n",
    "\n",
    "O Ator herda atributos e métodos de Item, além disso deve possuir uma lista com seus principais filmes, que virá no HTML."
   ]
  },
  {
   "cell_type": "code",
   "execution_count": 5,
   "metadata": {},
   "outputs": [],
   "source": [
    "class Ator(Item):\n",
    "    def __init__(self, url,  thr=None):\n",
    "        super().__init__(url=url, tipo='ator',  thr=thr)\n",
    "        ids = [ (\n",
    "                    int(filme.find('a')['href'].split('/')[-1]),\n",
    "                    filme.find('p').text\n",
    "                ) for filme in self.html.find_all('div', id='known_for')[0].find_all('li')]\n",
    "        self.know = [ \n",
    "            Item(\n",
    "                id=i[0],\n",
    "                name=i[1], \n",
    "                tipo='filme', \n",
    "                url=f\"{tmdb}/movie/{i[0]}\", \n",
    "                download=False) for i in ids\n",
    "            ]"
   ]
  },
  {
   "cell_type": "markdown",
   "metadata": {},
   "source": [
    "### Busca Sequência"
   ]
  },
  {
   "cell_type": "code",
   "execution_count": 6,
   "metadata": {},
   "outputs": [],
   "source": [
    "# Função simples que tem objetivo de buscar um item pelo o id em uma lista.\n",
    "def busca(item, lista):\n",
    "    r = [x for x in lista if x.id == item.id]\n",
    "    return len(r) > 0, r[0] if len(r) > 0 else None"
   ]
  },
  {
   "cell_type": "markdown",
   "metadata": {},
   "source": [
    "#### Escolhas\n",
    "\n",
    "Quando as informações de um filme é retornado e extraído, é necessário escolher o próximo ator que fará parte da sequência. Para isso, é verificado se o ator já está no histórico de já vistos, caso não esteja, a escolha é feita. Caso o ator já esteja no histórico, é escolhido o próximo ator que não esteja no histórico. Caso não haja mais atores para serem escolhidos, a Thread é finalizada. A mesma operação é feita para a escolha do próximo filme."
   ]
  },
  {
   "cell_type": "code",
   "execution_count": 7,
   "metadata": {},
   "outputs": [],
   "source": [
    "def escolheAtor(atual:Filme, historico:list):\n",
    "    escolhido = None\n",
    "    i = 0\n",
    "    while escolhido == None and i < len(atual.elenco):\n",
    "        if busca(item=atual.elenco[i], lista=historico)[0] == False:\n",
    "            escolhido = atual.elenco[i]\n",
    "        i += 1\n",
    "    return escolhido"
   ]
  },
  {
   "cell_type": "code",
   "execution_count": 8,
   "metadata": {},
   "outputs": [],
   "source": [
    "def escolheFilme(atorAtual:Ator, historico:list):\n",
    "    escolhido = None\n",
    "    i = 0\n",
    "    while escolhido == None and i < len(atorAtual.know):\n",
    "        if busca(item=atorAtual.know[i], lista=historico)[0] == False:\n",
    "            escolhido = atorAtual.know[i]\n",
    "        i += 1\n",
    "    return escolhido"
   ]
  },
  {
   "cell_type": "markdown",
   "metadata": {},
   "source": [
    "#### Busca Sequência\n",
    "\n",
    "A variável possível determina se ainda há a possibilidade de encontrar a sequência obtendo apenas filmes principais ou os atores principais, dos filmes presentes. Como este programa não procura filmes que não estão na lista de filmes principais, é possível que a sequência não seja encontrada, mesmo que exista."
   ]
  },
  {
   "cell_type": "code",
   "execution_count": 9,
   "metadata": {},
   "outputs": [],
   "source": [
    "def buscaSeq(movInit:Item, s2:Ator, seq:dict, thr:int, numMax:int=100, possivel:bool=True):\n",
    "    tempoBusca = time()\n",
    "    while len(seq['historico']) < numMax and seq['encontrou'] == False and possivel:\n",
    "        seq['historico'].append(Filme(url=movInit.url, thr=thr)) # Requisitar o filme e já colocar no historico.\n",
    "        encontrou, ator = busca(item=s2, lista=seq['historico'][-1].elenco)\n",
    "\n",
    "        # Encontrou?\n",
    "        if encontrou: # Sim:\n",
    "            seq['historico'].append(s2)\n",
    "            seq['encontrou'] = True\n",
    "\n",
    "        else: # Não:\n",
    "\n",
    "            # Escolher o ator entre o elenco, deve ser alguém que não esteja no historico.\n",
    "            atorAtual = escolheAtor(atual=seq['historico'][-1], historico=seq['historico'])\n",
    "\n",
    "            if atorAtual != None: # Ainda é possivel encontrar o caminho.\n",
    "                seq['historico'].append(Ator(url=atorAtual.url, thr=thr))\n",
    "                movInit = escolheFilme(atorAtual=seq['historico'][-1], historico=seq['historico'])\n",
    "            else:\n",
    "                possivel = False\n",
    "    tempoFinalBusca = time() - tempoBusca\n",
    "    print(f\"Seq: {thr} | FIM DA BUSCA | {'ENCONTRADO' if seq['encontrou'] else 'NAO ENCONTRADO'} | t: {tempoFinalBusca}s\")"
   ]
  },
  {
   "cell_type": "markdown",
   "metadata": {},
   "source": [
    "#### Conecta\n",
    "\n",
    "A função conecta tem o objetivo de criar as Threads determinando que elas a executarem a função `buscaSeq` e em seguida iniciar a Thread."
   ]
  },
  {
   "cell_type": "code",
   "execution_count": 10,
   "metadata": {},
   "outputs": [],
   "source": [
    "def conecta(s1, s2, qntThrs=1):\n",
    "    numMax = 100\n",
    "    sequencias = [{'encontrou': False, 'historico': [s1]} for _ in range(qntThrs)]\n",
    "\n",
    "    encontrados = 0\n",
    "    thrs = [Thread(target=buscaSeq, args=(s1.know[i], s2, sequencias[i], i, numMax)) for i in range(qntThrs)]\n",
    "\n",
    "    t = time()\n",
    "\n",
    "    for thr in thrs:\n",
    "        thr.start()\n",
    "\n",
    "    for thr in thrs:\n",
    "        thr.join()\n",
    "    \n",
    "    final = time() - t\n",
    "\n",
    "    for seq in sequencias:\n",
    "        if seq['encontrou']:\n",
    "            encontrados += 1\n",
    "\n",
    "    return sequencias, encontrados, final"
   ]
  },
  {
   "cell_type": "markdown",
   "metadata": {},
   "source": [
    "#### Função conectaSemThread\n",
    "\n",
    "A função conectaSemThread tem o objetivo de executar a função `buscaSeq` sem a utilização de Threads, para que seja possível comparar o tempo de execução com e sem Threads."
   ]
  },
  {
   "cell_type": "code",
   "execution_count": 11,
   "metadata": {},
   "outputs": [],
   "source": [
    "def conectaSemThread(s1, s2, qnt=1):\n",
    "    numMax = 100\n",
    "    sequencias = [{'encontrou': False, 'historico': [s1]} for _ in range(qnt)]\n",
    "    encontrados = 0\n",
    "\n",
    "    t = time()\n",
    "    \n",
    "    for index, seq in enumerate(sequencias):\n",
    "        buscaSeq(movInit=s1.know[index], s2=s2, seq=seq, thr=index, numMax=numMax)\n",
    "    \n",
    "    final = time() - t\n",
    "\n",
    "    for seq in sequencias:\n",
    "        if seq['encontrou']:\n",
    "            encontrados += 1\n",
    "\n",
    "    return sequencias, encontrados, final"
   ]
  },
  {
   "cell_type": "markdown",
   "metadata": {},
   "source": [
    "## Teste"
   ]
  },
  {
   "cell_type": "code",
   "execution_count": 12,
   "metadata": {},
   "outputs": [],
   "source": [
    "urlS1 = \"https://www.themoviedb.org/person/10055-fernanda-montenegro\"\n",
    "urlS2 = \"https://www.themoviedb.org/person/5064-meryl-streep\""
   ]
  },
  {
   "cell_type": "markdown",
   "metadata": {},
   "source": [
    "Criação dos objetos, ao ser executado o construtor já faz a raspagem da página HTML da página das duas artistas."
   ]
  },
  {
   "cell_type": "code",
   "execution_count": 13,
   "metadata": {},
   "outputs": [],
   "source": [
    "s1, s2 = Ator(url=urlS1), Ator(url=urlS2)"
   ]
  },
  {
   "cell_type": "markdown",
   "metadata": {},
   "source": [
    "### Teste com Threads"
   ]
  },
  {
   "cell_type": "code",
   "execution_count": 14,
   "metadata": {},
   "outputs": [
    {
     "name": "stdout",
     "output_type": "stream",
     "text": [
      "Seq: 3 | FIM DA BUSCA | NAO ENCONTRADO | t: 8.211337327957153s\n",
      "Seq: 0 | FIM DA BUSCA | NAO ENCONTRADO | t: 9.092081308364868s\n",
      "Seq: 5 | FIM DA BUSCA | NAO ENCONTRADO | t: 11.919637203216553s\n",
      "Seq: 7 | FIM DA BUSCA | NAO ENCONTRADO | t: 13.055224180221558s\n",
      "Seq: 6 | FIM DA BUSCA | ENCONTRADO | t: 30.330496788024902s\n",
      "Seq: 2 | FIM DA BUSCA | ENCONTRADO | t: 41.53800058364868s\n",
      "Seq: 4 | FIM DA BUSCA | NAO ENCONTRADO | t: 46.918702602386475s\n",
      "Seq: 1 | FIM DA BUSCA | NAO ENCONTRADO | t: 67.10902762413025s\n"
     ]
    }
   ],
   "source": [
    "seqs1, encontrados1, tempo1 = conecta(s1, s2, qntThrs=8)"
   ]
  },
  {
   "cell_type": "code",
   "execution_count": 15,
   "metadata": {},
   "outputs": [
    {
     "name": "stdout",
     "output_type": "stream",
     "text": [
      "Qnt de Sequencias encontradas: 2\n",
      "Tempo de execução: 67.11134362220764s\n"
     ]
    }
   ],
   "source": [
    "print(f'Qnt de Sequencias encontradas: {encontrados1}')\n",
    "print(f'Tempo de execução: {tempo1}s')"
   ]
  },
  {
   "cell_type": "markdown",
   "metadata": {},
   "source": [
    "### Teste sem Threads"
   ]
  },
  {
   "cell_type": "code",
   "execution_count": 16,
   "metadata": {},
   "outputs": [
    {
     "name": "stdout",
     "output_type": "stream",
     "text": [
      "Seq: 0 | FIM DA BUSCA | NAO ENCONTRADO | t: 7.457204580307007s\n",
      "Seq: 1 | FIM DA BUSCA | NAO ENCONTRADO | t: 50.003766775131226s\n",
      "Seq: 2 | FIM DA BUSCA | ENCONTRADO | t: 27.126829624176025s\n",
      "Seq: 3 | FIM DA BUSCA | NAO ENCONTRADO | t: 6.308543682098389s\n",
      "Seq: 4 | FIM DA BUSCA | NAO ENCONTRADO | t: 34.5151469707489s\n",
      "Seq: 5 | FIM DA BUSCA | NAO ENCONTRADO | t: 10.331662893295288s\n",
      "Seq: 6 | FIM DA BUSCA | ENCONTRADO | t: 17.46849489212036s\n",
      "Seq: 7 | FIM DA BUSCA | NAO ENCONTRADO | t: 10.700839281082153s\n"
     ]
    }
   ],
   "source": [
    "seqs2, encontrados2, tempo2 = conectaSemThread(s1, s2, 8)"
   ]
  },
  {
   "cell_type": "code",
   "execution_count": 17,
   "metadata": {},
   "outputs": [
    {
     "name": "stdout",
     "output_type": "stream",
     "text": [
      "Qnt de Sequencias encontradas: 2\n",
      "Tempo de execução: 163.9130470752716s\n"
     ]
    }
   ],
   "source": [
    "print(f'Qnt de Sequencias encontradas: {encontrados2}')\n",
    "print(f'Tempo de execução: {tempo2}s')"
   ]
  },
  {
   "cell_type": "markdown",
   "metadata": {},
   "source": [
    "### Comparação dos Resultados"
   ]
  },
  {
   "cell_type": "code",
   "execution_count": 18,
   "metadata": {},
   "outputs": [
    {
     "data": {
      "text/plain": [
       "'Houve um ganho de 96.8017 segundos com o uso de threads.'"
      ]
     },
     "execution_count": 18,
     "metadata": {},
     "output_type": "execute_result"
    }
   ],
   "source": [
    "f\"Houve um ganho de {round(tempo2 - tempo1, 4)} segundos com o uso de threads.\""
   ]
  },
  {
   "cell_type": "code",
   "execution_count": 19,
   "metadata": {},
   "outputs": [
    {
     "data": {
      "image/png": "[encoded data removed]",
      "text/plain": [
       "<Figure size 432x288 with 1 Axes>"
      ]
     },
     "metadata": {
      "needs_background": "light"
     },
     "output_type": "display_data"
    }
   ],
   "source": [
    "df = pd.DataFrame({'Tempo': [tempo1, tempo2],'Tipo': ['Com Threads', 'Sem Threads']})\n",
    "sns.barplot(x='Tipo', y='Tempo', data=df)\n",
    "plt.show()"
   ]
  },
  {
   "cell_type": "markdown",
   "metadata": {},
   "source": [
    "Com isso, percebe-se que a operação obteve um ganho de desempenho utilizando Threads."
   ]
  },
  {
   "cell_type": "markdown",
   "metadata": {},
   "source": [
    "### Apresentação de Sequências"
   ]
  },
  {
   "cell_type": "code",
   "execution_count": 64,
   "metadata": {},
   "outputs": [],
   "source": [
    "def showSeq(seq):\n",
    "    print(f\"{'-'*50}\")\n",
    "    print(f\"A atriz {seq['historico'][0].name} atuou em: \", end='')\n",
    "    for i in seq['historico'][1:-1]:\n",
    "        if i.tipo == 'filme':\n",
    "            print(f\"{i.name}\")\n",
    "        else:\n",
    "            print(f\"onde o ator {i.name} tbm trabalhou.\\nAlém disso, {i.name.split(' ')[0]} atuou em: \", end='')\n",
    "    print(f\"Que por fim, {seq['historico'][-1].name} trabalhou!\")\n"
   ]
  },
  {
   "cell_type": "code",
   "execution_count": 66,
   "metadata": {},
   "outputs": [
    {
     "name": "stdout",
     "output_type": "stream",
     "text": [
      "--------------------------------------------------\n",
      "A atriz Fernanda Montenegro atuou em: A Dog's Will\n",
      "onde o ator Matheus Nachtergaele tbm trabalhou.\n",
      "Além disso, Matheus atuou em: City of God\n",
      "onde o ator Alexandre Rodrigues tbm trabalhou.\n",
      "Além disso, Alexandre atuou em: City of God: 10 Years Later\n",
      "onde o ator Alice Braga tbm trabalhou.\n",
      "Além disso, Alice atuou em: I Am Legend\n",
      "onde o ator Will Smith tbm trabalhou.\n",
      "Além disso, Will atuou em: Suicide Squad\n",
      "onde o ator Jared Leto tbm trabalhou.\n",
      "Além disso, Jared atuou em: Mr. Nobody\n",
      "onde o ator Sarah Polley tbm trabalhou.\n",
      "Além disso, Sarah atuou em: Dawn of the Dead\n",
      "onde o ator Ving Rhames tbm trabalhou.\n",
      "Além disso, Ving atuou em: Pulp Fiction\n",
      "onde o ator John Travolta tbm trabalhou.\n",
      "Além disso, John atuou em: Grease\n",
      "onde o ator Olivia Newton-John tbm trabalhou.\n",
      "Além disso, Olivia atuou em: Xanadu\n",
      "onde o ator Gene Kelly tbm trabalhou.\n",
      "Além disso, Gene atuou em: Singin' in the Rain\n",
      "onde o ator Donald O'Connor tbm trabalhou.\n",
      "Além disso, Donald atuou em: Toys\n",
      "onde o ator Robin Williams tbm trabalhou.\n",
      "Além disso, Robin atuou em: Dead Poets Society\n",
      "onde o ator Ethan Hawke tbm trabalhou.\n",
      "Além disso, Ethan atuou em: The Purge\n",
      "onde o ator Lena Headey tbm trabalhou.\n",
      "Além disso, Lena atuou em: 300\n",
      "onde o ator Gerard Butler tbm trabalhou.\n",
      "Além disso, Gerard atuou em: Olympus Has Fallen\n",
      "onde o ator Aaron Eckhart tbm trabalhou.\n",
      "Além disso, Aaron atuou em: The Dark Knight\n",
      "onde o ator Christian Bale tbm trabalhou.\n",
      "Além disso, Christian atuou em: The Dark Knight Rises\n",
      "onde o ator Michael Caine tbm trabalhou.\n",
      "Além disso, Michael atuou em: Batman Begins\n",
      "onde o ator Liam Neeson tbm trabalhou.\n",
      "Além disso, Liam atuou em: Schindler's List\n",
      "onde o ator Ben Kingsley tbm trabalhou.\n",
      "Além disso, Ben atuou em: Shutter Island\n",
      "onde o ator Leonardo DiCaprio tbm trabalhou.\n",
      "Além disso, Leonardo atuou em: Inception\n",
      "onde o ator Joseph Gordon-Levitt tbm trabalhou.\n",
      "Além disso, Joseph atuou em: Looper\n",
      "onde o ator Bruce Willis tbm trabalhou.\n",
      "Além disso, Bruce atuou em: The Sixth Sense\n",
      "onde o ator Haley Joel Osment tbm trabalhou.\n",
      "Além disso, Haley atuou em: A.I. Artificial Intelligence\n",
      "Que por fim, Meryl Streep trabalhou!\n"
     ]
    }
   ],
   "source": [
    "showSeq(seqs1[2])"
   ]
  }
 ],
 "metadata": {
  "kernelspec": {
   "display_name": "Python 3",
   "language": "python",
   "name": "python3"
  },
  "language_info": {
   "codemirror_mode": {
    "name": "ipython",
    "version": 3
   },
   "file_extension": ".py",
   "mimetype": "text/x-python",
   "name": "python",
   "nbconvert_exporter": "python",
   "pygments_lexer": "ipython3",
   "version": "3.8.10"
  },
  "orig_nbformat": 4
 },
 "nbformat": 4,
 "nbformat_minor": 2
}
